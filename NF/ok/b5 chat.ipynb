{
 "cells": [
  {
   "cell_type": "code",
   "execution_count": null,
   "id": "70fbcff4",
   "metadata": {},
   "outputs": [
    {
     "name": "stdout",
     "output_type": "stream",
     "text": [
      "Jayesh Tapkir 21130\n",
      "User: hi\n",
      "Bot: Hi, how can I assist you?\n",
      "User: search \n",
      "Bot: Let me search for '' for you!\n"
     ]
    }
   ],
   "source": [
    "\n",
    "print(\"Jayesh Tapkir 21130\")\n",
    "\n",
    "import random\n",
    "import webbrowser\n",
    "import urllib.parse\n",
    "\n",
    "# Dictionary of predefined responses\n",
    "responses = {\n",
    "    \"greeting\": [\"Hey there!\", \"Hi, how can I assist you?\", \"Welcome, what can I do for you?\"],\n",
    "    \"farewell\": [\"Goodbye!\", \"See you soon!\", \"Take care and have a great day!\"],\n",
    "    \"thanks\": [\"You're welcome!\", \"No problem, happy to help!\", \"My pleasure!\"],\n",
    "    \"default\": [\"I'm sorry, I didn't quite catch that.\", \"Could you please provide more context?\", \"I'm not sure I understand.\"]\n",
    "}\n",
    "\n",
    "# Function to generate a response based on user input\n",
    "def generate_response(user_input):\n",
    "    user_input = user_input.lower()\n",
    "    # Check for common keywords in user input\n",
    "    if \"hello\" in user_input or \"hi\" in user_input:\n",
    "        return random.choice(responses[\"greeting\"])\n",
    "    elif \"goodbye\" in user_input or \"bye\" in user_input:\n",
    "        return random.choice(responses[\"farewell\"])\n",
    "    elif \"thank\" in user_input:\n",
    "        return random.choice(responses[\"thanks\"])\n",
    "    elif \"search\" in user_input:\n",
    "        # Extract the search term from the user input\n",
    "        search_term = user_input.replace(\"search\", \"\").strip()\n",
    "        # Construct the search URL\n",
    "        search_url = \"https://www.google.com/search?q=\" + urllib.parse.quote(search_term)\n",
    "        # Open the browser with the search URL\n",
    "        webbrowser.open(search_url)\n",
    "        return f\"Let me search for '{search_term}' for you!\"\n",
    "    elif \"exit\" in user_input:\n",
    "        raise KeyboardInterrupt  # Exiting the chatbot\n",
    "    else:\n",
    "        return random.choice(responses[\"default\"])\n",
    "\n",
    "# Main interaction loop\n",
    "try:\n",
    "    while True:\n",
    "        # Get user input\n",
    "        user_input = input(\"User: \")\n",
    "        # Generate and display bot response\n",
    "        bot_response = generate_response(user_input)\n",
    "        print(\"Bot:\", bot_response)\n",
    "except KeyboardInterrupt:\n",
    "    print(\"\\nExiting the chatbot. Goodbye!\")\n"
   ]
  },
  {
   "cell_type": "code",
   "execution_count": null,
   "id": "9778c9af",
   "metadata": {},
   "outputs": [],
   "source": []
  }
 ],
 "metadata": {
  "kernelspec": {
   "display_name": "Python 3 (ipykernel)",
   "language": "python",
   "name": "python3"
  },
  "language_info": {
   "codemirror_mode": {
    "name": "ipython",
    "version": 3
   },
   "file_extension": ".py",
   "mimetype": "text/x-python",
   "name": "python",
   "nbconvert_exporter": "python",
   "pygments_lexer": "ipython3",
   "version": "3.10.9"
  }
 },
 "nbformat": 4,
 "nbformat_minor": 5
}
