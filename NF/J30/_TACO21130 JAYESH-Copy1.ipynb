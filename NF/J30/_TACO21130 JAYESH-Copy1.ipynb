{
 "cells": [
  {
   "cell_type": "code",
   "execution_count": 1,
   "id": "5bc09e80",
   "metadata": {},
   "outputs": [
    {
     "name": "stdout",
     "output_type": "stream",
     "text": [
      "TAC021130 JAYESH TAPKIR\n",
      "Enter number of nodes: 5\n",
      "Enter root node :A\n",
      "Goal Node:E\n",
      "Enter edges in the format 'node1 node2'.\n",
      "Enter node and its roots separated by spaces: A B C\n",
      "Enter node and its roots separated by spaces: B D\n",
      "Enter node and its roots separated by spaces: C E\n",
      "Enter node and its roots separated by spaces: D\n",
      "Enter node and its roots separated by spaces: E\n",
      "\n",
      "Following is the Breadth-First Search:\n",
      "A B C D E \n",
      "E is the goal node and is found!\n"
     ]
    }
   ],
   "source": [
    "#BFS\n",
    "print(\"TAC021130 JAYESH TAPKIR\")\n",
    "\n",
    "n = int(input(\"Enter number of nodes: \"))\n",
    "root=input(\"Enter root node :\")\n",
    "p= input(\"Goal Node:\")\n",
    "\n",
    "graph = {}\n",
    "\n",
    "\n",
    "print(\"Enter edges in the format 'node1 node2'.\")\n",
    "for i in range(n):\n",
    "    node, *neighbors = input(\"Enter node and its roots separated by spaces: \").split()\n",
    "    graph[node] = neighbors\n",
    "\n",
    "\n",
    "visited = [] \n",
    "queue = []     \n",
    "\n",
    "def bfs(visited, graph, node): \n",
    "    visited.append(node)\n",
    "    queue.append(node)\n",
    "\n",
    "    while queue:          \n",
    "        m = queue.pop(0) \n",
    "        print(m, end=\" \") \n",
    "        if m==p:\n",
    "            print(\"\\n\" + p + \" is the goal node and is found!\")\n",
    "            break\n",
    "\n",
    "        for neighbour in graph[m]:\n",
    "            if neighbour not in visited:\n",
    "                visited.append(neighbour)\n",
    "                queue.append(neighbour)\n",
    "\n",
    "\n",
    "print(\"\\nFollowing is the Breadth-First Search:\")\n",
    "bfs(visited, graph, root)\n"
   ]
  },
  {
   "cell_type": "code",
   "execution_count": 4,
   "id": "2d26c231",
   "metadata": {},
   "outputs": [
    {
     "name": "stdout",
     "output_type": "stream",
     "text": [
      "TAC021130 JAYESH TAPKIR\n",
      "Enter number of nodes: 5\n",
      "Enter the root node: A\n",
      "Enter the goal node: E\n",
      "Enter edges in the format 'node root1 root2 ...'.\n",
      "Enter node and its roots separated by spaces: A B C\n",
      "Enter node and its roots separated by spaces: B D\n",
      "Enter node and its roots separated by spaces: C E\n",
      "Enter node and its roots separated by spaces: D\n",
      "Enter node and its roots separated by spaces: E\n",
      "Depth-First Search (DFS):\n",
      "A\n",
      "B\n",
      "D\n",
      "C\n",
      "E\n",
      "E  is a goal node and is found\n"
     ]
    },
    {
     "data": {
      "text/plain": [
       "True"
      ]
     },
     "execution_count": 4,
     "metadata": {},
     "output_type": "execute_result"
    }
   ],
   "source": [
    "print(\"TAC021130 JAYESH TAPKIR\")\n",
    "\n",
    "n = int(input(\"Enter number of nodes: \"))\n",
    "root = input(\"Enter the root node: \")\n",
    "goal_node = input(\"Enter the goal node: \")\n",
    "\n",
    "graph = {}\n",
    "\n",
    "print(\"Enter edges in the format 'node root1 root2 ...'.\")\n",
    "for _ in range(n):\n",
    "    node, *neighbors = input(\"Enter node and its roots separated by spaces: \").split()\n",
    "    graph[node] = neighbors\n",
    "\n",
    "visited = []\n",
    "\n",
    "def dfs(visited, graph, node, goal_node):\n",
    "    if node not in visited:\n",
    "        print(node)\n",
    "        visited.append(node)\n",
    "        if node == goal_node:\n",
    "            print( node, \" is a goal node and is found\")\n",
    "            return True\n",
    "        for neighbour in graph[node]:\n",
    "            if dfs(visited, graph, neighbour, goal_node):\n",
    "                return True\n",
    "    return False\n",
    "\n",
    "# Driver Code\n",
    "print(\"Depth-First Search (DFS):\")\n",
    "\n",
    "dfs(visited, graph, root, goal_node)\n"
   ]
  },
  {
   "cell_type": "code",
   "execution_count": 5,
   "id": "80d27faa",
   "metadata": {},
   "outputs": [
    {
     "name": "stdout",
     "output_type": "stream",
     "text": [
      "TAC021130 JAYESH TAPKIR\n",
      "Enter the N Value : 8\n",
      "Solution: (4, 0, 7, 3, 1, 6, 2, 5)\n"
     ]
    }
   ],
   "source": [
    "print(\"TAC021130 JAYESH TAPKIR\")\n",
    "\n",
    "class NQueensProblem:\n",
    "    def __init__(self, n):\n",
    "        self.n = n\n",
    "\n",
    "    def transition(self, state):\n",
    "        successors = []\n",
    "        for col in range(self.n):\n",
    "            for row in range(self.n):\n",
    "                if row != state[col]:\n",
    "                    successor = state[:col] + (row,) + state[col + 1:]\n",
    "                    successors.append(successor)\n",
    "        return successors\n",
    "\n",
    "    def cost(self, state):\n",
    "        attacked_queens = 0\n",
    "        for i in range(self.n):\n",
    "            for j in range(i + 1, self.n):\n",
    "                if state[i] == state[j] or abs(state[i] - state[j]) == j - i:\n",
    "                    attacked_queens += 1\n",
    "        return attacked_queens\n",
    "\n",
    "    def heuristic(self, state):\n",
    "        return self.cost(state)\n",
    "\n",
    "def a_star_search(problem):\n",
    "    start_state = tuple(range(problem.n))  \n",
    "    open_set = [(problem.heuristic(start_state), start_state)]  \n",
    "    closed_set = set()\n",
    "\n",
    "    while open_set:\n",
    "        _, current_state = open_set.pop(0)  \n",
    "        if current_state not in closed_set:\n",
    "            closed_set.add(current_state)\n",
    "            if problem.cost(current_state) == 0:\n",
    "                return current_state  \n",
    "            successors = problem.transition(current_state)\n",
    "            for successor in successors:\n",
    "                f_value = problem.cost(successor) + problem.heuristic(successor)\n",
    "                open_set.append((f_value, successor))\n",
    "            open_set.sort()  \n",
    "\n",
    "    return None  \n",
    "\n",
    "if __name__ == \"__main__\":\n",
    "    n = int(input(\"Enter the N Value : \"))  \n",
    "    n_queens_problem = NQueensProblem(n)\n",
    "    solution = a_star_search(n_queens_problem)\n",
    "    print(\"Solution:\", solution)\n",
    "\n"
   ]
  },
  {
   "cell_type": "code",
   "execution_count": 7,
   "id": "2acb327e",
   "metadata": {},
   "outputs": [
    {
     "name": "stdout",
     "output_type": "stream",
     "text": [
      "TAC021130 JAYESH TAPKIR\n",
      "Enter the elements of the array separated by space: 32 34 54 66\n",
      "Sorted array:\n",
      "32, 34, 54, 66, "
     ]
    }
   ],
   "source": [
    "print(\"TAC021130 JAYESH TAPKIR\")\n",
    "\n",
    "import sys \n",
    "\n",
    "input_str = input(\"Enter the elements of the array separated by space: \")\n",
    "\n",
    "\n",
    "A = []\n",
    "\n",
    "\n",
    "num = ''\n",
    "for char in input_str:\n",
    "    if char != ' ':\n",
    "        num += char\n",
    "    else:\n",
    "        A.append(int(num))\n",
    "        num = ''\n",
    "\n",
    "if num:\n",
    "    A.append(int(num))\n",
    "\n",
    "\n",
    "for i in range(len(A)): \n",
    "    min_idx = i \n",
    "    for j in range(i+1, len(A)): \n",
    "        if A[min_idx] > A[j]: \n",
    "            min_idx = j \n",
    "    A[i], A[min_idx] = A[min_idx], A[i] \n",
    "\n",
    " \n",
    "print(\"Sorted array:\") \n",
    "for i in range(len(A)): \n",
    "    print(\"%d\" % A[i], end=\", \")\n"
   ]
  },
  {
   "cell_type": "markdown",
   "id": "f829adb3",
   "metadata": {},
   "source": [
    "#### "
   ]
  },
  {
   "cell_type": "markdown",
   "id": "e0cebc3e",
   "metadata": {},
   "source": [
    "#### "
   ]
  }
 ],
 "metadata": {
  "kernelspec": {
   "display_name": "Python 3 (ipykernel)",
   "language": "python",
   "name": "python3"
  },
  "language_info": {
   "codemirror_mode": {
    "name": "ipython",
    "version": 3
   },
   "file_extension": ".py",
   "mimetype": "text/x-python",
   "name": "python",
   "nbconvert_exporter": "python",
   "pygments_lexer": "ipython3",
   "version": "3.10.9"
  }
 },
 "nbformat": 4,
 "nbformat_minor": 5
}
